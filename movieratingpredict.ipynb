{
 "cells": [
  {
   "cell_type": "code",
   "execution_count": 34,
   "id": "d946c2b7-62a1-4933-81f6-3a47615c1fe7",
   "metadata": {},
   "outputs": [],
   "source": [
    "import pandas as pd \n",
    "import numpy as np\n",
    "import matplotlib.pyplot as plt\n",
    "import clean_text as ct\n",
    "from sklearn.feature_extraction.text import CountVectorizer\n",
    "from sklearn.model_selection import train_test_split\n",
    "from sklearn.naive_bayes import MultinomialNB"
   ]
  },
  {
   "cell_type": "code",
   "execution_count": 35,
   "id": "2d5fb988-a164-425b-a287-7acde893e953",
   "metadata": {},
   "outputs": [],
   "source": [
    "df=pd.read_csv('./Train.csv')\n",
    "df.head()\n",
    "X_act=pd.read_csv('./Test/Test.csv')"
   ]
  },
  {
   "cell_type": "code",
   "execution_count": 36,
   "id": "ed3f709c-92b6-401a-bf3d-76a6a3199369",
   "metadata": {},
   "outputs": [],
   "source": [
    "X = df['review']  # Text reviews\n",
    "y = df['label'] "
   ]
  },
  {
   "cell_type": "code",
   "execution_count": 37,
   "id": "eee4a2d7-465b-457c-8ba0-dc77725cbcfa",
   "metadata": {},
   "outputs": [],
   "source": [
    "X_train, X_test, y_train, y_test = train_test_split(X, y, test_size=0.2, random_state=42)\n",
    "X_train_clean = [ct.get_stemmed_review(review) for review in X_train]# x_train is pandas series\n",
    "X_test_clean = [ct.get_stemmed_review(review) for review in X_test]\n",
    "X_act_clean = [ct.get_stemmed_review(review) for review in X_act['review']]\n",
    "# print(X_train_clean[:1])"
   ]
  },
  {
   "cell_type": "code",
   "execution_count": 38,
   "id": "7c9f6021-496b-40a7-9d82-ca181d2ca57b",
   "metadata": {},
   "outputs": [],
   "source": [
    "from sklearn.feature_extraction.text import TfidfVectorizer\n",
    "\n",
    "vectorizer = TfidfVectorizer(ngram_range=(1, 2), max_features=5000)\n",
    "X_train_vec = vectorizer.fit_transform(X_train_clean).toarray()\n",
    "X_test_vec = vectorizer.transform(X_test_clean).toarray()\n",
    "X_act_vec= vectorizer.transform(X_act_clean).toarray()\n"
   ]
  },
  {
   "cell_type": "code",
   "execution_count": 40,
   "id": "79fd409c-27e7-4128-973d-8a64a9589238",
   "metadata": {},
   "outputs": [
    {
     "name": "stdout",
     "output_type": "stream",
     "text": [
      "(10000,)\n",
      "0.8655625\n",
      "0.859\n"
     ]
    }
   ],
   "source": [
    "# Train the MultinomialNB Model\n",
    "mb = MultinomialNB()\n",
    "mb.fit(X_train_vec, y_train)\n",
    "y_pred=mb.predict(X_act_vec)\n",
    "print(y_pred.shape)\n",
    "print(mb.score(X_train_vec,y_train))\n",
    "print(mb.score(X_test_vec,y_test))\n"
   ]
  },
  {
   "cell_type": "code",
   "execution_count": 43,
   "id": "91ce6d6a-641b-4b74-84f9-2fbc3b0b23f1",
   "metadata": {},
   "outputs": [],
   "source": [
    "df = pd.DataFrame(data=y_pred, columns=[\"label\"])\n",
    "# Add an index column (ID)\n",
    "df['id'] = df.index\n",
    "# Reorder the columns if you want 'id' to be the first column\n",
    "df = df[['id', 'label']]\n",
    "# Save to CSV\n",
    "df.to_csv('y_prediction.csv', index=False)\n"
   ]
  }
 ],
 "metadata": {
  "kernelspec": {
   "display_name": "Python 3 (ipykernel)",
   "language": "python",
   "name": "python3"
  },
  "language_info": {
   "codemirror_mode": {
    "name": "ipython",
    "version": 3
   },
   "file_extension": ".py",
   "mimetype": "text/x-python",
   "name": "python",
   "nbconvert_exporter": "python",
   "pygments_lexer": "ipython3",
   "version": "3.12.0"
  }
 },
 "nbformat": 4,
 "nbformat_minor": 5
}
